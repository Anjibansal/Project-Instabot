{
 "cells": [
  {
   "cell_type": "markdown",
   "metadata": {},
   "source": [
    "<h1>Instructions</h1>\n",
    "<ol>\n",
    "<li>Insert sample_username and sample_password(in 3rd cell)</li>\n",
    "<li>Use stable internet Connection</li>   \n",
    "<li>Run the whole kernel</li>\n",
    "<li>Run in maximised mode only (Supports only maximize mode)</li>\n",
    "<ul>   "
   ]
  },
  {
   "cell_type": "markdown",
   "metadata": {},
   "source": [
    "# Importing libraries"
   ]
  },
  {
   "cell_type": "code",
   "execution_count": null,
   "metadata": {},
   "outputs": [],
   "source": [
    "from selenium import webdriver\n",
    "import time\n",
    "from selenium.webdriver.support.select import Select\n",
    "from selenium.webdriver.common.by import By\n",
    "from selenium.webdriver.support import expected_conditions as EC\n",
    "from selenium.common.exceptions import NoSuchElementException\n",
    "from bs4 import BeautifulSoup\n",
    "from selenium.webdriver.support.ui import WebDriverWait\n",
    "import numpy as np"
   ]
  },
  {
   "cell_type": "markdown",
   "metadata": {},
   "source": [
    "# Intiating driver session"
   ]
  },
  {
   "cell_type": "code",
   "execution_count": null,
   "metadata": {},
   "outputs": [],
   "source": [
    "driver = webdriver.Chrome(executable_path = 'F:/chromedriver.exe')\n",
    "#maximizing window\n",
    "driver.maximize_window()\n",
    "wait = WebDriverWait(driver,10)"
   ]
  },
  {
   "cell_type": "markdown",
   "metadata": {},
   "source": [
    "# Opening the instagram and login by username and password"
   ]
  },
  {
   "cell_type": "code",
   "execution_count": null,
   "metadata": {},
   "outputs": [],
   "source": [
    "driver.get('https://www.instagram.com')\n",
    "time.sleep(3)\n",
    "username = wait.until(EC.presence_of_element_located((By.NAME,'username')))\n",
    "username.send_keys('sample_username') # fill username\n",
    "password = driver.find_element_by_name(\"password\")\n",
    "password.send_keys('sample_password')# fill password\n",
    "password.submit()\n",
    "time.sleep(5)\n",
    "# turning off the notifications\n",
    "driver.find_element_by_xpath('//button[contains(@class,\"aOOlW   HoLwm \")]').click()\n",
    "time.sleep(2)"
   ]
  },
  {
   "cell_type": "code",
   "execution_count": null,
   "metadata": {},
   "outputs": [],
   "source": [
    "#locating search_bar\n",
    "search_bar = driver.find_element_by_xpath('//input[contains(@class,\"XTCLo x3qfX\")]')"
   ]
  },
  {
   "cell_type": "markdown",
   "metadata": {},
   "source": [
    "# Searching food related instagram handles"
   ]
  },
  {
   "cell_type": "code",
   "execution_count": null,
   "metadata": {},
   "outputs": [],
   "source": [
    "#extracting all the food related instagram handles and storing them for further use\n",
    "search_bar.send_keys('food')\n",
    "time.sleep(3)\n",
    "options = driver.find_elements_by_class_name('Ap253')\n",
    "food_handles = []\n",
    "for i in options:\n",
    "    if i.text[0] != '#':\n",
    "        food_handles.append(i.text)\n",
    "        print(i.text, end = ' ')\n",
    "driver.find_element_by_class_name('coreSpriteSearchClear').click()"
   ]
  },
  {
   "cell_type": "markdown",
   "metadata": {},
   "source": [
    "# Searching for \"So Delhi\" Instagram handle"
   ]
  },
  {
   "cell_type": "code",
   "execution_count": null,
   "metadata": {},
   "outputs": [],
   "source": [
    "search_bar = driver.find_element_by_xpath('//input[contains(@class,\"XTCLo x3qfX\")]')\n",
    "search_bar.send_keys('So Delhi')\n",
    "wait.until(EC.presence_of_element_located((By.CLASS_NAME,'yCE8d'))).click() # click on the so delhi\n",
    "time.sleep(3)"
   ]
  },
  {
   "cell_type": "markdown",
   "metadata": {},
   "source": [
    "# Following and unfollowing \"So Delhi\" "
   ]
  },
  {
   "cell_type": "code",
   "execution_count": null,
   "metadata": {},
   "outputs": [],
   "source": [
    "follow_btn = driver.find_element_by_tag_name('button')\n",
    "if follow_btn.text == 'Follow':\n",
    "    follow_btn.click()\n",
    "    print('Now, the user started to follow the page ')\n",
    "else:\n",
    "    print('The user is already following the page')\n",
    "time.sleep(2)\n",
    "follow_btn = driver.find_element_by_tag_name('button')\n",
    "if follow_btn.text == 'Follow':\n",
    "    print('The user is already Unfollowing the page')\n",
    "else:\n",
    "    driver.find_element_by_xpath('//*[@id=\"react-root\"]/section/main/div/header/section/div[1]/div[2]/span/span[1]/button').click()\n",
    "    time.sleep(2)\n",
    "    driver.find_element_by_xpath('//button[contains(@class,\"aOOlW -Cab_   \")]').click() # unfollow btn\n",
    "    print('The user now unfollowed the page')\n",
    "time.sleep(3)"
   ]
  },
  {
   "cell_type": "markdown",
   "metadata": {},
   "source": [
    "# Finding the first 500 followers of \"So Delhi\" page"
   ]
  },
  {
   "cell_type": "code",
   "execution_count": null,
   "metadata": {},
   "outputs": [],
   "source": [
    "followers_btn = driver.find_element_by_xpath('//li[contains(@class,\"Y8-fY \")][2]')\n",
    "followers_btn.click()\n",
    "so_delhi_followers = wait.until(EC.presence_of_all_elements_located((By.CSS_SELECTOR,'body > div.RnEpo.Yx5HN > div > div.isgrP > ul > div > li')))\n",
    "so_delhi_last_follower = driver.find_element_by_css_selector('body > div.RnEpo.Yx5HN > div > div.isgrP > ul > div > li:nth-child(12)')\n",
    "time.sleep(3)\n",
    "so_delhi_followers_usernames = []\n",
    "while len(so_delhi_followers) <= 500:\n",
    "    print(len(so_delhi_followers))\n",
    "    driver.execute_script('arguments[0].scrollIntoView(false);',so_delhi_last_follower)\n",
    "    time.sleep(3)\n",
    "    so_delhi_last_follower = driver.find_element_by_xpath('/html/body/div[4]/div/div[2]/ul/div/li[last()]')\n",
    "    temp = driver.find_elements_by_xpath('/html/body/div[4]/div/div[2]/ul/div/li/div/div[1]/div[2]/div[1]/a')\n",
    "    if(len(temp) == len(so_delhi_followers)) or len(temp) > 500:\n",
    "        so_delhi_followers = temp\n",
    "        for i in range(len(so_delhi_followers)):\n",
    "            so_delhi_followers_usernames.append(so_delhi_followers[i].get_attribute('innerHTML'))\n",
    "        so_delhi_followers_usernames = set(so_delhi_followers_usernames)\n",
    "        break\n",
    "    so_delhi_followers = temp\n",
    "exit_btn = driver.find_element_by_xpath('/html/body/div[4]/div/div[1]/div/div[2]/button')\n",
    "exit_btn.click()\n"
   ]
  },
  {
   "cell_type": "markdown",
   "metadata": {},
   "source": [
    "# Search for the \"dilsefoodie\" Instagram handle"
   ]
  },
  {
   "cell_type": "code",
   "execution_count": null,
   "metadata": {},
   "outputs": [],
   "source": [
    "search_bar = driver.find_element_by_xpath('//input[contains(@class,\"XTCLo x3qfX\")]')\n",
    "search_bar.send_keys('dilsefoodie')\n",
    "wait.until(EC.presence_of_element_located((By.CLASS_NAME,'yCE8d'))).click()\n",
    "time.sleep(3)"
   ]
  },
  {
   "cell_type": "markdown",
   "metadata": {},
   "source": [
    "# Liking and Unliking first 30 posts of the \"dilsefoodie\" page"
   ]
  },
  {
   "cell_type": "code",
   "execution_count": null,
   "metadata": {},
   "outputs": [],
   "source": [
    "#liking the first 30 posts\n",
    "first_post = driver.find_element_by_xpath('//*[@id=\"react-root\"]/section/main/div/div[3]/article/div[1]/div/div[1]/div[1]/a/div[1]/div[2]')\n",
    "first_post.click()                        \n",
    "time.sleep(3)\n",
    "like_btn = wait.until(EC.presence_of_element_located((By.XPATH,'/html/body/div[4]/div[2]/div/article/div[2]/section[1]/span[1]/button')))\n",
    "if like_btn.get_attribute('innerHTML').split(' ')[1].split('=')[1] == '\"Unlike\"':\n",
    "    print(\"Already Liked this post\")\n",
    "else:\n",
    "    like_btn.click()\n",
    "    print(\"Liked this post now\")\n",
    "for i in range(29):\n",
    "    wait.until(EC.presence_of_element_located((By.CLASS_NAME,\"coreSpriteRightPaginationArrow\"))).click()\n",
    "    time.sleep(5)\n",
    "    like_btn = wait.until(EC.presence_of_element_located((By.XPATH,'/html/body/div[4]/div[2]/div/article/div[2]/section[1]/span[1]/button')))\n",
    "    if like_btn.get_attribute('innerHTML').split(' ')[1].split('=')[1] == '\"Unlike\"':\n",
    "        print(\"Already Liked this post\")\n",
    "    else:\n",
    "        like_btn.click()\n",
    "        print(\"Liked this post now\")\n",
    "    \n",
    "cross_btn = wait.until(EC.presence_of_element_located((By.XPATH,'/html/body/div[4]/div[3]/button')))\n",
    "cross_btn.click()\n",
    "print('First 30 posts liked')\n",
    "\n",
    "\n",
    "#unliking first 30 posts\n",
    "first_post = driver.find_element_by_xpath('//*[@id=\"react-root\"]/section/main/div/div[3]/article/div[1]/div/div[1]/div[1]/a/div[1]/div[2]')\n",
    "first_post.click()                        \n",
    "time.sleep(3)\n",
    "unlike_btn = wait.until(EC.presence_of_element_located((By.XPATH,'/html/body/div[4]/div[2]/div/article/div[2]/section[1]/span[1]/button')))\n",
    "if unlike_btn.get_attribute('innerHTML').split(' ')[1].split('=')[1] == '\"Like\"':\n",
    "    print(\"Already Unliked this post\")\n",
    "else:\n",
    "    unlike_btn.click()\n",
    "    print(\"Unliked this post now\")  \n",
    "for i in range(29):\n",
    "    wait.until(EC.presence_of_element_located((By.CLASS_NAME,\"coreSpriteRightPaginationArrow\"))).click()\n",
    "    time.sleep(5)\n",
    "    unlike_btn = wait.until(EC.presence_of_element_located((By.XPATH,'/html/body/div[4]/div[2]/div/article/div[2]/section[1]/span[1]/button')))\n",
    "    if unlike_btn.get_attribute('innerHTML').split(' ')[1].split('=')[1] == '\"Like\"':\n",
    "        print(\"Already Unliked this post\")\n",
    "    else:\n",
    "        unlike_btn.click()\n",
    "        print(\"Unliked this post now\")\n",
    "    \n",
    "cross_btn = wait.until(EC.presence_of_element_located((By.XPATH,'/html/body/div[4]/div[3]/button')))\n",
    "cross_btn.click()\n",
    "print('First 30 post unliked')"
   ]
  },
  {
   "cell_type": "markdown",
   "metadata": {},
   "source": [
    "# Search for the \"foodtalkindia\" Instagram Handle "
   ]
  },
  {
   "cell_type": "code",
   "execution_count": null,
   "metadata": {},
   "outputs": [],
   "source": [
    "search_bar = driver.find_element_by_xpath('//input[contains(@class,\"XTCLo x3qfX\")]')\n",
    "search_bar.send_keys('foodtalkindia')\n",
    "wait.until(EC.presence_of_element_located((By.CLASS_NAME,'yCE8d'))).click()\n",
    "time.sleep(3)"
   ]
  },
  {
   "cell_type": "markdown",
   "metadata": {},
   "source": [
    "# Finding the first 500 followers of \"foodtalkindia\" page"
   ]
  },
  {
   "cell_type": "code",
   "execution_count": null,
   "metadata": {},
   "outputs": [],
   "source": [
    "followers_btn = driver.find_element_by_xpath('//li[contains(@class,\"Y8-fY \")][2]')\n",
    "followers_btn.click()\n",
    "foodtalkindia_followers = wait.until(EC.presence_of_all_elements_located((By.CSS_SELECTOR,'body > div.RnEpo.Yx5HN > div > div.isgrP > ul > div > li')))\n",
    "foodtalkindia_last_follower = driver.find_element_by_css_selector('body > div.RnEpo.Yx5HN > div > div.isgrP > ul > div > li:nth-child(12)')\n",
    "time.sleep(3)\n",
    "foodtalkindia_followers_usernames = []\n",
    "while len(foodtalkindia_followers) <= 500:\n",
    "    print(len(foodtalkindia_followers))\n",
    "    driver.execute_script('arguments[0].scrollIntoView(false);',foodtalkindia_last_follower)\n",
    "    time.sleep(3)\n",
    "    foodtalkindia_last_follower = driver.find_element_by_xpath('/html/body/div[4]/div/div[2]/ul/div/li[last()]')\n",
    "    temp = driver.find_elements_by_xpath('/html/body/div[4]/div/div[2]/ul/div/li/div/div[1]/div[2]/div[1]/a')\n",
    "    if(len(temp) == len(foodtalkindia_followers)) or len(temp) > 500:\n",
    "        foodtalkindia_followers = temp\n",
    "        for i in range(len(foodtalkindia_followers)):\n",
    "            foodtalkindia_followers_usernames.append(foodtalkindia_followers[i].get_attribute('innerHTML'))\n",
    "        foodtalkindia_followers_usernames = set(foodtalkindia_followers_usernames)\n",
    "        break\n",
    "    foodtalkindia_followers = temp\n",
    "exit_btn = driver.find_element_by_xpath('/html/body/div[4]/div/div[1]/div/div[2]/button')\n",
    "exit_btn.click()\n"
   ]
  },
  {
   "cell_type": "markdown",
   "metadata": {},
   "source": [
    "# Finding mutual followers of Foodtalkindia page"
   ]
  },
  {
   "cell_type": "code",
   "execution_count": null,
   "metadata": {},
   "outputs": [],
   "source": [
    "driver.find_element_by_xpath('/html/body/div[1]/section/main/div/header/section/div[2]/a[2]').click()\n",
    "time.sleep(3)\n",
    "driver.find_element_by_xpath('/html/body/div[4]/div/div[2]/div/a').click()\n",
    "mutual_followers_foodtalkindia = wait.until(EC.presence_of_all_elements_located((By.CSS_SELECTOR,'body > div.RnEpo.Yx5HN > div > div.isgrP > ul > div > li')))\n",
    "mutual_last_follower_foodtalkindia = driver.find_element_by_css_selector('body > div.RnEpo.Yx5HN > div > div.isgrP > ul > div > li:nth-child(12)')\n",
    "mutual_followers_foodtalkindia_usernames = []\n",
    "while len(mutual_followers_foodtalkindia) <= 500:\n",
    "    print(len(mutual_followers_foodtalkindia))\n",
    "    driver.execute_script('arguments[0].scrollIntoView(false);',mutual_last_follower_foodtalkindia)\n",
    "    time.sleep(3)\n",
    "    mutual_last_follower_foodtalkindia = driver.find_element_by_xpath('/html/body/div[4]/div/div[2]/ul/div/li[last()]')\n",
    "    temp = driver.find_elements_by_xpath('/html/body/div[4]/div/div[2]/ul/div/li/div/div[1]/div[2]/div[1]/a')\n",
    "   \n",
    "    if(driver.find_element_by_xpath('/html/body/div[4]/div/div[2]/ul/div/li[last()]/div/div[2]/button').get_attribute('innerHTML')) == \"Follow\":        \n",
    "        print(driver.find_element_by_xpath('/html/body/div[4]/div/div[2]/ul/div/li[last()]/div/div[2]/button').get_attribute('innerHTML'))\n",
    "        mutual_followers_foodtalkindia = temp\n",
    "        for i in range(len(mutual_followers_foodtalkindia)):\n",
    "            mutual_followers_foodtalkindia_usernames.append(mutual_followers_foodtalkindia[i].get_attribute('innerHTML'))\n",
    "        mutual_followers_foodtalkindia_usernames = set(mutual_followers_foodtalkindia_usernames)\n",
    "        flag = 1\n",
    "        \n",
    "        break\n",
    "    if(len(temp) == len(mutual_followers_foodtalkindia)) or len(temp) > 500:\n",
    "        mutual_followers_foodtalkindia = temp\n",
    "        for i in range(len(mutual_followers_foodtalkindia)):\n",
    "            mutual_followers_foodtalkindia_usernames.append(mutual_followers_foodtalkindia[i].get_attribute('innerHTML'))\n",
    "        mutual_followers_foodtalkindia_usernames = set(mutual_followers_foodtalkindia_usernames)\n",
    "        break\n",
    "    mutual_followers_foodtalkindia = temp\n",
    "exit_btn = driver.find_element_by_xpath('/html/body/div[4]/div/div[1]/div/div[2]/button')\n",
    "exit_btn.click()\n"
   ]
  },
  {
   "cell_type": "markdown",
   "metadata": {},
   "source": [
    "# Checking the user profile"
   ]
  },
  {
   "cell_type": "code",
   "execution_count": null,
   "metadata": {},
   "outputs": [],
   "source": [
    "home_btn = driver.find_element_by_xpath('/html/body/div[1]/section/nav/div[2]/div/div/div[3]/div/div[5]/a')\n",
    "home_btn.click()\n",
    "time.sleep(5)"
   ]
  },
  {
   "cell_type": "markdown",
   "metadata": {},
   "source": [
    "# Finding the user's followers"
   ]
  },
  {
   "cell_type": "code",
   "execution_count": null,
   "metadata": {},
   "outputs": [],
   "source": [
    "followers_btn = driver.find_element_by_xpath('//li[contains(@class,\"Y8-fY \")][2]')\n",
    "followers_btn.click()\n",
    "user_followers = wait.until(EC.presence_of_all_elements_located((By.CSS_SELECTOR,'body > div.RnEpo.Yx5HN > div > div.isgrP > ul > div > li')))\n",
    "user_last_follower = driver.find_element_by_css_selector('body > div.RnEpo.Yx5HN > div > div.isgrP > ul > div > li:nth-child(12)')\n",
    "user_followers_usernames = []\n",
    "while True:\n",
    "    print(len(user_followers))\n",
    "    driver.execute_script('arguments[0].scrollIntoView(false);',user_last_follower)\n",
    "    time.sleep(3)\n",
    "    user_last_follower = driver.find_element_by_xpath('/html/body/div[4]/div/div[2]/ul/div/li[last()]')\n",
    "    cur_user_followers = driver.find_elements_by_xpath('/html/body/div[4]/div/div[2]/ul/div/li/div/div[1]/div[2]/div[1]/a')\n",
    "    if len(cur_user_followers) == len(user_followers) or len(cur_user_followers) > 500:\n",
    "        user_followers = cur_user_followers\n",
    "        for i in range(len(user_followers)):\n",
    "            user_followers_usernames.append(user_followers[i].get_attribute('innerHTML'))\n",
    "        break\n",
    "    user_followers = cur_user_followers\n",
    "\n",
    "exit_btn = driver.find_element_by_xpath('/html/body/div[4]/div/div[1]/div/div[2]/button')\n",
    "exit_btn.click()\n"
   ]
  },
  {
   "cell_type": "markdown",
   "metadata": {},
   "source": [
    "# Finding the user's following"
   ]
  },
  {
   "cell_type": "code",
   "execution_count": null,
   "metadata": {},
   "outputs": [],
   "source": [
    "following_btn = driver.find_element_by_xpath('//li[contains(@class,\"Y8-fY \")][3]')\n",
    "following_btn.click()\n",
    "user_followings = wait.until(EC.presence_of_all_elements_located((By.CSS_SELECTOR,'body > div.RnEpo.Yx5HN > div > div.isgrP > ul > div > li')))\n",
    "user_last_following = driver.find_element_by_css_selector('body > div.RnEpo.Yx5HN > div > div.isgrP > ul > div > li:nth-child(12)')\n",
    "user_following_usernames = []\n",
    "while True:\n",
    "    print(len(user_followings))\n",
    "    driver.execute_script('arguments[0].scrollIntoView(false);',user_last_following)\n",
    "    time.sleep(3)\n",
    "    user_last_following = driver.find_element_by_xpath('/html/body/div[4]/div/div[2]/ul/div/li[last()]')\n",
    "    cur_user_followings = driver.find_elements_by_xpath('/html/body/div[4]/div/div[2]/ul/div/li/div/div[1]/div[2]/div[1]/a')\n",
    "    if len(cur_user_followings) == len(user_followings) or len(cur_user_followings) > 500:\n",
    "        user_followings = cur_user_followings\n",
    "        for i in range(len(cur_user_followings)):\n",
    "            user_following_usernames.append(cur_user_followings[i].get_attribute('innerHTML'))\n",
    "        user_following_usernames = set(user_following_usernames)\n",
    "        break\n",
    "    user_followings = cur_user_followings\n",
    "\n",
    "exit_btn = driver.find_element_by_xpath('/html/body/div[4]/div/div[1]/div/div[2]/button')\n",
    "exit_btn.click()\n"
   ]
  },
  {
   "cell_type": "markdown",
   "metadata": {},
   "source": [
    "# All the followers of “foodtalkindia” that user is following but those who don’t follow user."
   ]
  },
  {
   "cell_type": "code",
   "execution_count": null,
   "metadata": {},
   "outputs": [],
   "source": [
    "user_following_and_foodtalkindia_followers = user_following_usernames.intersection(mutual_followers_foodtalkindia_usernames)\n",
    "if len(user_following_and_foodtalkindia_followers) != 0:\n",
    "    print(\"These are the users that is followed by user and also following Foodtalkindia\")\n",
    "    for i in user_following_and_foodtalkindia_followers:\n",
    "        print(i)\n",
    "    followed_by_user_but_not_following_user_and_following_foodtalkindia = user_following_and_foodtalkindia_followers - user_following_and_foodtalkindia_followers.intersection(user_followers_usernames)\n",
    "    if len(followed_by_user_but_not_following_user_and_following_foodtalkindia) != 0:\n",
    "        print(\"These are the users that is followed by user but not following the user and following foodtalkindia\")    \n",
    "        for i in followed_by_user_but_not_following_user_and_following_foodtalkindia:\n",
    "            print(i)\n",
    "    else:\n",
    "        print(\"There is no such user that is followed by user, following foodtalkindia and not following user\")\n",
    "else:\n",
    "    print(\"There is no such user that is followed by user but following foodtalkindia\")"
   ]
  },
  {
   "cell_type": "markdown",
   "metadata": {},
   "source": [
    "# Search for the \"Coding Ninjas\" Instagram Handle "
   ]
  },
  {
   "cell_type": "code",
   "execution_count": null,
   "metadata": {},
   "outputs": [],
   "source": [
    "search_bar = driver.find_element_by_xpath('//input[contains(@class,\"XTCLo x3qfX\")]')\n",
    "search_bar.send_keys('Coding Ninjas')\n",
    "wait.until(EC.presence_of_element_located((By.CLASS_NAME,'yCE8d'))).click()\n",
    "time.sleep(3)"
   ]
  },
  {
   "cell_type": "markdown",
   "metadata": {},
   "source": [
    "# Viewing the coding Ninjas Story"
   ]
  },
  {
   "cell_type": "code",
   "execution_count": null,
   "metadata": {},
   "outputs": [],
   "source": [
    "story = driver.find_element_by_xpath('/html/body/div[1]/section/main/div/header/div/div/canvas')\n",
    "height = int(story.get_attribute('height'))\n",
    "width = int(story.get_attribute('width'))\n",
    "print(height, width)\n",
    "try:\n",
    "    if height == 168 and width == 168:\n",
    "        print(\"Story is not viewed yet!!\")\n",
    "        driver.find_element_by_xpath('/html/body/div[1]/section/main/div/header/div/div/span/img').click()\n",
    "        print(\"Now viewing the story.\")\n",
    "    elif height == 166 and width == 166:\n",
    "        print(\"Story is already viewed!!\")\n",
    "except NoSuchElementException:\n",
    "    print('The user has no story!')"
   ]
  }
 ],
 "metadata": {
  "kernelspec": {
   "display_name": "Python 3",
   "language": "python",
   "name": "python3"
  },
  "language_info": {
   "codemirror_mode": {
    "name": "ipython",
    "version": 3
   },
   "file_extension": ".py",
   "mimetype": "text/x-python",
   "name": "python",
   "nbconvert_exporter": "python",
   "pygments_lexer": "ipython3",
   "version": "3.7.4"
  }
 },
 "nbformat": 4,
 "nbformat_minor": 2
}
